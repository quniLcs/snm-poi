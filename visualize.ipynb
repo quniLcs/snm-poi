{
 "cells": [
  {
   "attachments": {},
   "cell_type": "markdown",
   "metadata": {},
   "source": [
    "0. "
   ]
  },
  {
   "cell_type": "code",
   "execution_count": 1,
   "metadata": {},
   "outputs": [],
   "source": [
    "import pandas as pd\n",
    "import numpy as np\n",
    "import plotly.graph_objects as go\n",
    "import plotly.express as px\n",
    "import plotly.io as pio\n",
    "from plotly.subplots import make_subplots\n",
    "import datetime"
   ]
  },
  {
   "cell_type": "code",
   "execution_count": 2,
   "metadata": {},
   "outputs": [],
   "source": [
    "data = pd.read_csv(r'D:\\资料\\大四上\\社交网络挖掘\\Foursquare\\dataset_TSMC2014_TKY.csv',sep=',',header='infer')\n",
    "userIDs = data[\"userId\"].to_numpy()\n",
    "userIDs = np.unique(userIDs)\n",
    "venueIDs = data[\"venueId\"].to_numpy()\n",
    "venueIDs = np.unique(venueIDs)"
   ]
  },
  {
   "cell_type": "code",
   "execution_count": 155,
   "metadata": {},
   "outputs": [
    {
     "name": "stdout",
     "output_type": "stream",
     "text": [
      "Index(['userId', 'venueId', 'venueCategoryId', 'venueCategory', 'latitude',\n",
      "       'longitude', 'timezoneOffset', 'utcTimestamp', 'year', 'month', 'day',\n",
      "       'hour', 'minute', 'second', 'weekday'],\n",
      "      dtype='object')\n"
     ]
    }
   ],
   "source": [
    "print(data.columns)"
   ]
  },
  {
   "cell_type": "code",
   "execution_count": 3,
   "metadata": {},
   "outputs": [],
   "source": [
    "months = [\"Jan\", \"Feb\", \"Mar\", \"Apr\", \"May\", \"Jun\", \"Jul\", \"Aug\", \"Sep\", \"Oct\", \"Nov\", \"Dec\"]\n",
    "days = [\"Mon\", \"Tue\", \"Wed\", \"Thu\", \"Fri\", \"Sat\", \"Sun\"]\n",
    "\n",
    "def get_time(utcTimestamp, timezoneOffset):\n",
    "    \n",
    "    time_data = utcTimestamp.split(' ')\n",
    "    day, year, month, date, time = time_data[0], time_data[-1], time_data[1], time_data[2], time_data[3]\n",
    "    hour, minute, second = time.split(':')\n",
    "    dt = datetime.datetime(int(year), months.index(month)+1, int(date), int(hour), int(minute), int(second)) + datetime.timedelta(minutes = int(timezoneOffset))\n",
    "    \n",
    "    return dt.year, dt.month, dt.day, dt.hour, dt.minute, dt.second, days.index(day)+1"
   ]
  },
  {
   "cell_type": "code",
   "execution_count": 4,
   "metadata": {},
   "outputs": [],
   "source": [
    "data[[\"year\", \"month\", \"day\", \"hour\", \"minute\", \"second\", \"weekday\"]] = data.apply(lambda x:get_time(x[\"utcTimestamp\"], x[\"timezoneOffset\"]), axis=1, result_type='expand')"
   ]
  },
  {
   "cell_type": "code",
   "execution_count": 5,
   "metadata": {},
   "outputs": [],
   "source": [
    "save_path = \"result/\"\n",
    "suffix = \".html\""
   ]
  },
  {
   "attachments": {},
   "cell_type": "markdown",
   "metadata": {},
   "source": [
    "地点类的分布"
   ]
  },
  {
   "cell_type": "code",
   "execution_count": 99,
   "metadata": {},
   "outputs": [
    {
     "name": "stdout",
     "output_type": "stream",
     "text": [
      "['Train Station' 'Subway' 'Ramen /  Noodle House' 'Convenience Store'\n",
      " 'Japanese Restaurant' 'Bar' 'Food & Drink Shop' 'Electronics Store'\n",
      " 'Mall' 'Coffee Shop' 'Office' 'Café' 'Bridge' 'Bus Station' 'Road'\n",
      " 'Bookstore' 'Park' 'Fast Food Restaurant' 'Arcade'\n",
      " 'College Academic Building']\n"
     ]
    }
   ],
   "source": [
    "venueCategorys = data[\"venueCategory\"].to_numpy()\n",
    "venueCategorys, count=np.unique(venueCategorys, return_counts=True)\n",
    "idx = np.argsort(-count)\n",
    "venueCategorys = venueCategorys[idx]\n",
    "count = count[idx]\n",
    "print(venueCategorys[:20])"
   ]
  },
  {
   "cell_type": "code",
   "execution_count": 13,
   "metadata": {},
   "outputs": [],
   "source": [
    "fig = px.bar(pd.DataFrame({\"venueCategory\": venueCategorys[:20], \"count\": count[:20]}),\n",
    "    x=\"venueCategory\",\n",
    "    y=\"count\",\n",
    "    title=\"venueCategory_count\")\n",
    "    \n",
    "fig.write_html(save_path + \"venueCategory_count\" + suffix)"
   ]
  },
  {
   "attachments": {},
   "cell_type": "markdown",
   "metadata": {},
   "source": [
    "去掉 train station，干扰太大"
   ]
  },
  {
   "cell_type": "code",
   "execution_count": 44,
   "metadata": {},
   "outputs": [],
   "source": [
    "clean_data = data[~data[\"venueCategory\"].isin([\"Train Station\"])]\n",
    "train_station_data = data[data[\"venueCategory\"].isin([\"Train Station\"])]"
   ]
  },
  {
   "attachments": {},
   "cell_type": "markdown",
   "metadata": {},
   "source": [
    "月份的分布"
   ]
  },
  {
   "cell_type": "code",
   "execution_count": 62,
   "metadata": {},
   "outputs": [],
   "source": [
    "fig = px.histogram(data, x=\"month\")\n",
    "fig.write_html(save_path + \"month\" + suffix)"
   ]
  },
  {
   "attachments": {},
   "cell_type": "markdown",
   "metadata": {},
   "source": [
    "不同类之间月份没什么区别"
   ]
  },
  {
   "cell_type": "code",
   "execution_count": 16,
   "metadata": {},
   "outputs": [],
   "source": [
    "fig = px.histogram(data[data[\"venueCategory\"].isin(venueCategorys[:50])], x=\"month\", animation_frame=\"venueCategory\", histnorm='percent')\n",
    "fig.write_html(save_path + \"month_venueCategory\" + suffix)"
   ]
  },
  {
   "attachments": {},
   "cell_type": "markdown",
   "metadata": {},
   "source": [
    "weekday 的分布，周末和工作日有一点区别"
   ]
  },
  {
   "cell_type": "code",
   "execution_count": 17,
   "metadata": {},
   "outputs": [],
   "source": [
    "fig = px.histogram(data, x=\"weekday\")\n",
    "fig.write_html(save_path + \"weekday\" + suffix)"
   ]
  },
  {
   "attachments": {},
   "cell_type": "markdown",
   "metadata": {},
   "source": [
    "不同类地点，确实有区别"
   ]
  },
  {
   "cell_type": "code",
   "execution_count": 18,
   "metadata": {},
   "outputs": [],
   "source": [
    "fig = px.histogram(data[data[\"venueCategory\"].isin(venueCategorys[:50])], x=\"weekday\", animation_frame=\"venueCategory\", histnorm='percent')\n",
    "fig.write_html(save_path + \"weekday_venueCategory\" + suffix)"
   ]
  },
  {
   "attachments": {},
   "cell_type": "markdown",
   "metadata": {},
   "source": [
    "一天内时间的分布（hour）"
   ]
  },
  {
   "cell_type": "code",
   "execution_count": 19,
   "metadata": {},
   "outputs": [],
   "source": [
    "fig = px.histogram(data, x=\"hour\")\n",
    "fig.write_html(save_path + \"hour\" + suffix)"
   ]
  },
  {
   "cell_type": "code",
   "execution_count": 77,
   "metadata": {},
   "outputs": [],
   "source": [
    "venueCategory = venueCategorys[0]\n",
    "month_data = data[data[\"venueCategory\"] == venueCategory][\"month\"].to_numpy()\n",
    "y = np.zeros(12)\n",
    "for j in month_data:\n",
    "    y[j-1] += 1"
   ]
  },
  {
   "cell_type": "code",
   "execution_count": 78,
   "metadata": {},
   "outputs": [
    {
     "data": {
      "text/plain": [
       "array([18155.,  9523.,     0., 27619., 32723., 22826., 22594.,  9598.,\n",
       "        3636., 13179., 19393., 21182.])"
      ]
     },
     "execution_count": 78,
     "metadata": {},
     "output_type": "execute_result"
    }
   ],
   "source": [
    "y"
   ]
  },
  {
   "cell_type": "code",
   "execution_count": 90,
   "metadata": {},
   "outputs": [
    {
     "data": {
      "application/vnd.plotly.v1+json": {
       "config": {
        "plotlyServerURL": "https://plot.ly"
       },
       "data": [
        {
         "name": "Train Station",
         "type": "scatter",
         "x": [
          1,
          2,
          3,
          4,
          5,
          6,
          7,
          8,
          9,
          10,
          11,
          12
         ],
         "y": [
          0.09058115632546351,
          0.047513321492007106,
          0,
          0.13780010776937354,
          0.16326561159119485,
          0.11388628335362325,
          0.11272876045263137,
          0.04788752070568982,
          0.018141177879338215,
          0.06575428582832737,
          0.09675793801265292,
          0.10568383658969804
         ]
        },
        {
         "name": "Subway",
         "type": "scatter",
         "x": [
          1,
          2,
          3,
          4,
          5,
          6,
          7,
          8,
          9,
          10,
          11,
          12
         ],
         "y": [
          0.09036144578313253,
          0.0500168002688043,
          0,
          0.1464983439735036,
          0.16262660202563242,
          0.11580185282964528,
          0.11143378294052705,
          0.04060864973839581,
          0.015480247683962943,
          0.06384102145634331,
          0.0957855325685211,
          0.10754572073153171
         ]
        },
        {
         "name": "Ramen /  Noodle House",
         "type": "scatter",
         "x": [
          1,
          2,
          3,
          4,
          5,
          6,
          7,
          8,
          9,
          10,
          11,
          12
         ],
         "y": [
          0.09622608796162516,
          0.0506270588915217,
          0,
          0.1413049760157198,
          0.1550020227706178,
          0.10859388545338959,
          0.10697566895914003,
          0.045714615962549845,
          0.018493902791423454,
          0.07310870947234584,
          0.09709298965497312,
          0.10686008206669363
         ]
        },
        {
         "name": "Convenience Store",
         "type": "scatter",
         "x": [
          1,
          2,
          3,
          4,
          5,
          6,
          7,
          8,
          9,
          10,
          11,
          12
         ],
         "y": [
          0.07966494386027446,
          0.038198776213390365,
          0,
          0.1450721796471217,
          0.1905186241311709,
          0.12077466880532288,
          0.11346759341769144,
          0.050020792490940415,
          0.01699043545416741,
          0.0668924137111626,
          0.08513039862175488,
          0.0932691736470029
         ]
        },
        {
         "name": "Japanese Restaurant",
         "type": "scatter",
         "x": [
          1,
          2,
          3,
          4,
          5,
          6,
          7,
          8,
          9,
          10,
          11,
          12
         ],
         "y": [
          0.08628826530612245,
          0.04170918367346939,
          0,
          0.1434311224489796,
          0.1600765306122449,
          0.109375,
          0.11288265306122448,
          0.046301020408163265,
          0.01721938775510204,
          0.06913265306122449,
          0.09961734693877551,
          0.11396683673469388
         ]
        },
        {
         "name": "Bar",
         "type": "scatter",
         "x": [
          1,
          2,
          3,
          4,
          5,
          6,
          7,
          8,
          9,
          10,
          11,
          12
         ],
         "y": [
          0.09350736278447122,
          0.04939759036144578,
          0,
          0.13995983935742973,
          0.1433065595716198,
          0.10917001338688086,
          0.11365461847389559,
          0.04805890227576975,
          0.02001338688085676,
          0.071285140562249,
          0.09384203480589023,
          0.11780455153949129
         ]
        },
        {
         "name": "Food & Drink Shop",
         "type": "scatter",
         "x": [
          1,
          2,
          3,
          4,
          5,
          6,
          7,
          8,
          9,
          10,
          11,
          12
         ],
         "y": [
          0.09056549953647579,
          0.0446409470156172,
          0,
          0.1399130000713114,
          0.16679740426442274,
          0.1180917064822078,
          0.11766383798046068,
          0.050488483206161304,
          0.01597375739855951,
          0.06232617842116523,
          0.09056549953647579,
          0.10297368608714255
         ]
        },
        {
         "name": "Electronics Store",
         "type": "scatter",
         "x": [
          1,
          2,
          3,
          4,
          5,
          6,
          7,
          8,
          9,
          10,
          11,
          12
         ],
         "y": [
          0.10314765531797743,
          0.045608883178856564,
          0,
          0.11975773148573002,
          0.14242452051023216,
          0.09966045700651556,
          0.11682114343397265,
          0.044048820776360464,
          0.0171606864274571,
          0.08369275947508488,
          0.10580893823988254,
          0.12186840414793063
         ]
        },
        {
         "name": "Mall",
         "type": "scatter",
         "x": [
          1,
          2,
          3,
          4,
          5,
          6,
          7,
          8,
          9,
          10,
          11,
          12
         ],
         "y": [
          0.093274287295876,
          0.049451056370513884,
          0,
          0.13063935787434267,
          0.1604391549035889,
          0.10102407971215056,
          0.11726174001291632,
          0.050927207306947136,
          0.019097702740105176,
          0.06698034874065874,
          0.09613432973521542,
          0.11477073530768521
         ]
        },
        {
         "name": "Coffee Shop",
         "type": "scatter",
         "x": [
          1,
          2,
          3,
          4,
          5,
          6,
          7,
          8,
          9,
          10,
          11,
          12
         ],
         "y": [
          0.0993414443576292,
          0.04397812255832124,
          0,
          0.12724634445808683,
          0.16497376939390557,
          0.1113963612010269,
          0.11697734122111843,
          0.04743833017077799,
          0.016742940060274585,
          0.06730661904230383,
          0.09297912713472485,
          0.11161960040183057
         ]
        }
       ],
       "layout": {
        "margin": {
         "b": 20,
         "l": 20,
         "r": 30,
         "t": 20
        },
        "template": {
         "data": {
          "bar": [
           {
            "error_x": {
             "color": "#2a3f5f"
            },
            "error_y": {
             "color": "#2a3f5f"
            },
            "marker": {
             "line": {
              "color": "#E5ECF6",
              "width": 0.5
             },
             "pattern": {
              "fillmode": "overlay",
              "size": 10,
              "solidity": 0.2
             }
            },
            "type": "bar"
           }
          ],
          "barpolar": [
           {
            "marker": {
             "line": {
              "color": "#E5ECF6",
              "width": 0.5
             },
             "pattern": {
              "fillmode": "overlay",
              "size": 10,
              "solidity": 0.2
             }
            },
            "type": "barpolar"
           }
          ],
          "carpet": [
           {
            "aaxis": {
             "endlinecolor": "#2a3f5f",
             "gridcolor": "white",
             "linecolor": "white",
             "minorgridcolor": "white",
             "startlinecolor": "#2a3f5f"
            },
            "baxis": {
             "endlinecolor": "#2a3f5f",
             "gridcolor": "white",
             "linecolor": "white",
             "minorgridcolor": "white",
             "startlinecolor": "#2a3f5f"
            },
            "type": "carpet"
           }
          ],
          "choropleth": [
           {
            "colorbar": {
             "outlinewidth": 0,
             "ticks": ""
            },
            "type": "choropleth"
           }
          ],
          "contour": [
           {
            "colorbar": {
             "outlinewidth": 0,
             "ticks": ""
            },
            "colorscale": [
             [
              0,
              "#0d0887"
             ],
             [
              0.1111111111111111,
              "#46039f"
             ],
             [
              0.2222222222222222,
              "#7201a8"
             ],
             [
              0.3333333333333333,
              "#9c179e"
             ],
             [
              0.4444444444444444,
              "#bd3786"
             ],
             [
              0.5555555555555556,
              "#d8576b"
             ],
             [
              0.6666666666666666,
              "#ed7953"
             ],
             [
              0.7777777777777778,
              "#fb9f3a"
             ],
             [
              0.8888888888888888,
              "#fdca26"
             ],
             [
              1,
              "#f0f921"
             ]
            ],
            "type": "contour"
           }
          ],
          "contourcarpet": [
           {
            "colorbar": {
             "outlinewidth": 0,
             "ticks": ""
            },
            "type": "contourcarpet"
           }
          ],
          "heatmap": [
           {
            "colorbar": {
             "outlinewidth": 0,
             "ticks": ""
            },
            "colorscale": [
             [
              0,
              "#0d0887"
             ],
             [
              0.1111111111111111,
              "#46039f"
             ],
             [
              0.2222222222222222,
              "#7201a8"
             ],
             [
              0.3333333333333333,
              "#9c179e"
             ],
             [
              0.4444444444444444,
              "#bd3786"
             ],
             [
              0.5555555555555556,
              "#d8576b"
             ],
             [
              0.6666666666666666,
              "#ed7953"
             ],
             [
              0.7777777777777778,
              "#fb9f3a"
             ],
             [
              0.8888888888888888,
              "#fdca26"
             ],
             [
              1,
              "#f0f921"
             ]
            ],
            "type": "heatmap"
           }
          ],
          "heatmapgl": [
           {
            "colorbar": {
             "outlinewidth": 0,
             "ticks": ""
            },
            "colorscale": [
             [
              0,
              "#0d0887"
             ],
             [
              0.1111111111111111,
              "#46039f"
             ],
             [
              0.2222222222222222,
              "#7201a8"
             ],
             [
              0.3333333333333333,
              "#9c179e"
             ],
             [
              0.4444444444444444,
              "#bd3786"
             ],
             [
              0.5555555555555556,
              "#d8576b"
             ],
             [
              0.6666666666666666,
              "#ed7953"
             ],
             [
              0.7777777777777778,
              "#fb9f3a"
             ],
             [
              0.8888888888888888,
              "#fdca26"
             ],
             [
              1,
              "#f0f921"
             ]
            ],
            "type": "heatmapgl"
           }
          ],
          "histogram": [
           {
            "marker": {
             "pattern": {
              "fillmode": "overlay",
              "size": 10,
              "solidity": 0.2
             }
            },
            "type": "histogram"
           }
          ],
          "histogram2d": [
           {
            "colorbar": {
             "outlinewidth": 0,
             "ticks": ""
            },
            "colorscale": [
             [
              0,
              "#0d0887"
             ],
             [
              0.1111111111111111,
              "#46039f"
             ],
             [
              0.2222222222222222,
              "#7201a8"
             ],
             [
              0.3333333333333333,
              "#9c179e"
             ],
             [
              0.4444444444444444,
              "#bd3786"
             ],
             [
              0.5555555555555556,
              "#d8576b"
             ],
             [
              0.6666666666666666,
              "#ed7953"
             ],
             [
              0.7777777777777778,
              "#fb9f3a"
             ],
             [
              0.8888888888888888,
              "#fdca26"
             ],
             [
              1,
              "#f0f921"
             ]
            ],
            "type": "histogram2d"
           }
          ],
          "histogram2dcontour": [
           {
            "colorbar": {
             "outlinewidth": 0,
             "ticks": ""
            },
            "colorscale": [
             [
              0,
              "#0d0887"
             ],
             [
              0.1111111111111111,
              "#46039f"
             ],
             [
              0.2222222222222222,
              "#7201a8"
             ],
             [
              0.3333333333333333,
              "#9c179e"
             ],
             [
              0.4444444444444444,
              "#bd3786"
             ],
             [
              0.5555555555555556,
              "#d8576b"
             ],
             [
              0.6666666666666666,
              "#ed7953"
             ],
             [
              0.7777777777777778,
              "#fb9f3a"
             ],
             [
              0.8888888888888888,
              "#fdca26"
             ],
             [
              1,
              "#f0f921"
             ]
            ],
            "type": "histogram2dcontour"
           }
          ],
          "mesh3d": [
           {
            "colorbar": {
             "outlinewidth": 0,
             "ticks": ""
            },
            "type": "mesh3d"
           }
          ],
          "parcoords": [
           {
            "line": {
             "colorbar": {
              "outlinewidth": 0,
              "ticks": ""
             }
            },
            "type": "parcoords"
           }
          ],
          "pie": [
           {
            "automargin": true,
            "type": "pie"
           }
          ],
          "scatter": [
           {
            "fillpattern": {
             "fillmode": "overlay",
             "size": 10,
             "solidity": 0.2
            },
            "type": "scatter"
           }
          ],
          "scatter3d": [
           {
            "line": {
             "colorbar": {
              "outlinewidth": 0,
              "ticks": ""
             }
            },
            "marker": {
             "colorbar": {
              "outlinewidth": 0,
              "ticks": ""
             }
            },
            "type": "scatter3d"
           }
          ],
          "scattercarpet": [
           {
            "marker": {
             "colorbar": {
              "outlinewidth": 0,
              "ticks": ""
             }
            },
            "type": "scattercarpet"
           }
          ],
          "scattergeo": [
           {
            "marker": {
             "colorbar": {
              "outlinewidth": 0,
              "ticks": ""
             }
            },
            "type": "scattergeo"
           }
          ],
          "scattergl": [
           {
            "marker": {
             "colorbar": {
              "outlinewidth": 0,
              "ticks": ""
             }
            },
            "type": "scattergl"
           }
          ],
          "scattermapbox": [
           {
            "marker": {
             "colorbar": {
              "outlinewidth": 0,
              "ticks": ""
             }
            },
            "type": "scattermapbox"
           }
          ],
          "scatterpolar": [
           {
            "marker": {
             "colorbar": {
              "outlinewidth": 0,
              "ticks": ""
             }
            },
            "type": "scatterpolar"
           }
          ],
          "scatterpolargl": [
           {
            "marker": {
             "colorbar": {
              "outlinewidth": 0,
              "ticks": ""
             }
            },
            "type": "scatterpolargl"
           }
          ],
          "scatterternary": [
           {
            "marker": {
             "colorbar": {
              "outlinewidth": 0,
              "ticks": ""
             }
            },
            "type": "scatterternary"
           }
          ],
          "surface": [
           {
            "colorbar": {
             "outlinewidth": 0,
             "ticks": ""
            },
            "colorscale": [
             [
              0,
              "#0d0887"
             ],
             [
              0.1111111111111111,
              "#46039f"
             ],
             [
              0.2222222222222222,
              "#7201a8"
             ],
             [
              0.3333333333333333,
              "#9c179e"
             ],
             [
              0.4444444444444444,
              "#bd3786"
             ],
             [
              0.5555555555555556,
              "#d8576b"
             ],
             [
              0.6666666666666666,
              "#ed7953"
             ],
             [
              0.7777777777777778,
              "#fb9f3a"
             ],
             [
              0.8888888888888888,
              "#fdca26"
             ],
             [
              1,
              "#f0f921"
             ]
            ],
            "type": "surface"
           }
          ],
          "table": [
           {
            "cells": {
             "fill": {
              "color": "#EBF0F8"
             },
             "line": {
              "color": "white"
             }
            },
            "header": {
             "fill": {
              "color": "#C8D4E3"
             },
             "line": {
              "color": "white"
             }
            },
            "type": "table"
           }
          ]
         },
         "layout": {
          "annotationdefaults": {
           "arrowcolor": "#2a3f5f",
           "arrowhead": 0,
           "arrowwidth": 1
          },
          "autotypenumbers": "strict",
          "coloraxis": {
           "colorbar": {
            "outlinewidth": 0,
            "ticks": ""
           }
          },
          "colorscale": {
           "diverging": [
            [
             0,
             "#8e0152"
            ],
            [
             0.1,
             "#c51b7d"
            ],
            [
             0.2,
             "#de77ae"
            ],
            [
             0.3,
             "#f1b6da"
            ],
            [
             0.4,
             "#fde0ef"
            ],
            [
             0.5,
             "#f7f7f7"
            ],
            [
             0.6,
             "#e6f5d0"
            ],
            [
             0.7,
             "#b8e186"
            ],
            [
             0.8,
             "#7fbc41"
            ],
            [
             0.9,
             "#4d9221"
            ],
            [
             1,
             "#276419"
            ]
           ],
           "sequential": [
            [
             0,
             "#0d0887"
            ],
            [
             0.1111111111111111,
             "#46039f"
            ],
            [
             0.2222222222222222,
             "#7201a8"
            ],
            [
             0.3333333333333333,
             "#9c179e"
            ],
            [
             0.4444444444444444,
             "#bd3786"
            ],
            [
             0.5555555555555556,
             "#d8576b"
            ],
            [
             0.6666666666666666,
             "#ed7953"
            ],
            [
             0.7777777777777778,
             "#fb9f3a"
            ],
            [
             0.8888888888888888,
             "#fdca26"
            ],
            [
             1,
             "#f0f921"
            ]
           ],
           "sequentialminus": [
            [
             0,
             "#0d0887"
            ],
            [
             0.1111111111111111,
             "#46039f"
            ],
            [
             0.2222222222222222,
             "#7201a8"
            ],
            [
             0.3333333333333333,
             "#9c179e"
            ],
            [
             0.4444444444444444,
             "#bd3786"
            ],
            [
             0.5555555555555556,
             "#d8576b"
            ],
            [
             0.6666666666666666,
             "#ed7953"
            ],
            [
             0.7777777777777778,
             "#fb9f3a"
            ],
            [
             0.8888888888888888,
             "#fdca26"
            ],
            [
             1,
             "#f0f921"
            ]
           ]
          },
          "colorway": [
           "#636efa",
           "#EF553B",
           "#00cc96",
           "#ab63fa",
           "#FFA15A",
           "#19d3f3",
           "#FF6692",
           "#B6E880",
           "#FF97FF",
           "#FECB52"
          ],
          "font": {
           "color": "#2a3f5f"
          },
          "geo": {
           "bgcolor": "white",
           "lakecolor": "white",
           "landcolor": "#E5ECF6",
           "showlakes": true,
           "showland": true,
           "subunitcolor": "white"
          },
          "hoverlabel": {
           "align": "left"
          },
          "hovermode": "closest",
          "mapbox": {
           "style": "light"
          },
          "paper_bgcolor": "white",
          "plot_bgcolor": "#E5ECF6",
          "polar": {
           "angularaxis": {
            "gridcolor": "white",
            "linecolor": "white",
            "ticks": ""
           },
           "bgcolor": "#E5ECF6",
           "radialaxis": {
            "gridcolor": "white",
            "linecolor": "white",
            "ticks": ""
           }
          },
          "scene": {
           "xaxis": {
            "backgroundcolor": "#E5ECF6",
            "gridcolor": "white",
            "gridwidth": 2,
            "linecolor": "white",
            "showbackground": true,
            "ticks": "",
            "zerolinecolor": "white"
           },
           "yaxis": {
            "backgroundcolor": "#E5ECF6",
            "gridcolor": "white",
            "gridwidth": 2,
            "linecolor": "white",
            "showbackground": true,
            "ticks": "",
            "zerolinecolor": "white"
           },
           "zaxis": {
            "backgroundcolor": "#E5ECF6",
            "gridcolor": "white",
            "gridwidth": 2,
            "linecolor": "white",
            "showbackground": true,
            "ticks": "",
            "zerolinecolor": "white"
           }
          },
          "shapedefaults": {
           "line": {
            "color": "#2a3f5f"
           }
          },
          "ternary": {
           "aaxis": {
            "gridcolor": "white",
            "linecolor": "white",
            "ticks": ""
           },
           "baxis": {
            "gridcolor": "white",
            "linecolor": "white",
            "ticks": ""
           },
           "bgcolor": "#E5ECF6",
           "caxis": {
            "gridcolor": "white",
            "linecolor": "white",
            "ticks": ""
           }
          },
          "title": {
           "x": 0.05
          },
          "xaxis": {
           "automargin": true,
           "gridcolor": "white",
           "linecolor": "white",
           "ticks": "",
           "title": {
            "standoff": 15
           },
           "zerolinecolor": "white",
           "zerolinewidth": 2
          },
          "yaxis": {
           "automargin": true,
           "gridcolor": "white",
           "linecolor": "white",
           "ticks": "",
           "title": {
            "standoff": 15
           },
           "zerolinecolor": "white",
           "zerolinewidth": 2
          }
         }
        }
       }
      }
     },
     "metadata": {},
     "output_type": "display_data"
    }
   ],
   "source": [
    "fig = go.Figure()\n",
    "x = np.zeros(12)\n",
    "for i in range(10):\n",
    "    venueCategory = venueCategorys[i]\n",
    "    month_data = data[data[\"venueCategory\"] == venueCategory][\"month\"].to_numpy()\n",
    "    y = np.zeros(12) \n",
    "    for j in month_data:\n",
    "        y[j-1] += 1\n",
    "    y /= len(month_data)\n",
    "    fig.add_trace(go.Scatter(\t\t\n",
    "    x=list(range(1, 13)),\t\t\t\t\n",
    "    y=y,\n",
    "    name=venueCategory\n",
    "))\n",
    "fig.update_layout(\n",
    "    margin=dict(l=20, r=30, t=20, b=20))\n",
    "fig.show()"
   ]
  },
  {
   "cell_type": "code",
   "execution_count": 88,
   "metadata": {},
   "outputs": [
    {
     "data": {
      "application/vnd.plotly.v1+json": {
       "config": {
        "plotlyServerURL": "https://plot.ly"
       },
       "data": [
        {
         "name": "Train Station",
         "type": "scatter",
         "x": [
          1,
          2,
          3,
          4,
          5,
          6,
          7,
          8,
          9,
          10,
          11,
          12,
          13,
          14,
          15,
          16,
          17,
          18,
          19,
          20,
          21,
          22,
          23,
          24
         ],
         "y": [
          0.0016614445087512722,
          0.00039914582792823357,
          0.00031432733949348393,
          0.0011675015466900832,
          0.0067655217833835594,
          0.017727064082862672,
          0.05797094218372682,
          0.08969804618117229,
          0.05391462270740615,
          0.032595246173189374,
          0.031128385255553115,
          0.03672141616939749,
          0.03787394974754026,
          0.037709302093519866,
          0.04547268844672401,
          0.05451833077214761,
          0.06892749516035683,
          0.0991029197517313,
          0.0938092482088331,
          0.07635659688267109,
          0.05857465024846828,
          0.04603648192867264,
          0.03590316722214461,
          0.015651505777635858
         ]
        },
        {
         "name": "Subway",
         "type": "scatter",
         "x": [
          1,
          2,
          3,
          4,
          5,
          6,
          7,
          8,
          9,
          10,
          11,
          12,
          13,
          14,
          15,
          16,
          17,
          18,
          19,
          20,
          21,
          22,
          23,
          24
         ],
         "y": [
          0.0006240099841597466,
          0.0007680122881966111,
          0.00019200307204915277,
          0.0007200115201843229,
          0.005256084097345557,
          0.012552200835213363,
          0.05368885902174435,
          0.09405750492007872,
          0.0667210675370806,
          0.03307252916046657,
          0.03184850957615322,
          0.04274468391494264,
          0.04017664282628522,
          0.040488647818365094,
          0.04500072001152018,
          0.050352805644890315,
          0.06777708443335094,
          0.10996975951615226,
          0.09439351029616475,
          0.06386502184034945,
          0.051504824077185235,
          0.045072721163538616,
          0.036696587145394324,
          0.012456199299188788
         ]
        },
        {
         "name": "Ramen /  Noodle House",
         "type": "scatter",
         "x": [
          1,
          2,
          3,
          4,
          5,
          6,
          7,
          8,
          9,
          10,
          11,
          12,
          13,
          14,
          15,
          16,
          17,
          18,
          19,
          20,
          21,
          22,
          23,
          24
         ],
         "y": [
          0.007108593885453389,
          0.004161128128070277,
          0.0032942264347223024,
          0.001791596832919147,
          0.002600705080043923,
          0.002138357510258337,
          0.007455354562792579,
          0.009882679304166907,
          0.005605964283650234,
          0.007975495578801364,
          0.05010691787551292,
          0.12731896202970583,
          0.0980754782407675,
          0.06235912847483095,
          0.04583020285499624,
          0.034618274287695774,
          0.04109114026469398,
          0.07709645726174652,
          0.1116569381032191,
          0.10639773449690805,
          0.08484077905565508,
          0.06056753164191181,
          0.03126625440675027,
          0.016760099404727506
         ]
        },
        {
         "name": "Convenience Store",
         "type": "scatter",
         "x": [
          1,
          2,
          3,
          4,
          5,
          6,
          7,
          8,
          9,
          10,
          11,
          12,
          13,
          14,
          15,
          16,
          17,
          18,
          19,
          20,
          21,
          22,
          23,
          24
         ],
         "y": [
          0.011703202043604824,
          0.006534782866987465,
          0.004752569357809065,
          0.004574348006891225,
          0.01146557357571437,
          0.023168775619319196,
          0.0579813461652706,
          0.08150656448642547,
          0.056614982474900495,
          0.029287708667498365,
          0.02851541614685439,
          0.05875363868591457,
          0.04099091071110319,
          0.038733440266143886,
          0.040159211073486606,
          0.05120893483039268,
          0.05590209707122913,
          0.06932810550703974,
          0.07265490405750609,
          0.06861522010336839,
          0.06606071407354601,
          0.051446563298283135,
          0.0423572744014733,
          0.027683716509237805
         ]
        },
        {
         "name": "Japanese Restaurant",
         "type": "scatter",
         "x": [
          1,
          2,
          3,
          4,
          5,
          6,
          7,
          8,
          9,
          10,
          11,
          12,
          13,
          14,
          15,
          16,
          17,
          18,
          19,
          20,
          21,
          22,
          23,
          24
         ],
         "y": [
          0.005548469387755102,
          0.002933673469387755,
          0.002423469387755102,
          0.0010841836734693877,
          0.0034438775510204083,
          0.0037627551020408163,
          0.010012755102040817,
          0.01173469387755102,
          0.005676020408163266,
          0.005739795918367347,
          0.033227040816326534,
          0.12895408163265307,
          0.0826530612244898,
          0.04579081632653061,
          0.028762755102040818,
          0.025510204081632654,
          0.04598214285714286,
          0.10153061224489796,
          0.14260204081632652,
          0.12602040816326532,
          0.0882015306122449,
          0.0538265306122449,
          0.029783163265306122,
          0.01479591836734694
         ]
        },
        {
         "name": "Bar",
         "type": "scatter",
         "x": [
          1,
          2,
          3,
          4,
          5,
          6,
          7,
          8,
          9,
          10,
          11,
          12,
          13,
          14,
          15,
          16,
          17,
          18,
          19,
          20,
          21,
          22,
          23,
          24
         ],
         "y": [
          0.014859437751004016,
          0.012449799196787148,
          0.006693440428380187,
          0.003949129852744311,
          0.0033467202141900937,
          0.0018072289156626507,
          0.005555555555555556,
          0.00642570281124498,
          0.0050200803212851405,
          0.004016064257028112,
          0.012048192771084338,
          0.035542168674698796,
          0.027643908969210176,
          0.020214190093708166,
          0.024297188755020082,
          0.03453815261044177,
          0.06385542168674699,
          0.10910307898259705,
          0.14966532797858098,
          0.14049531459170014,
          0.12289156626506025,
          0.0965194109772423,
          0.06506024096385542,
          0.03400267737617135
         ]
        },
        {
         "name": "Food & Drink Shop",
         "type": "scatter",
         "x": [
          1,
          2,
          3,
          4,
          5,
          6,
          7,
          8,
          9,
          10,
          11,
          12,
          13,
          14,
          15,
          16,
          17,
          18,
          19,
          20,
          21,
          22,
          23,
          24
         ],
         "y": [
          0.0050631106040077015,
          0.003209013763103473,
          0.0013549169221992441,
          0.0019254082578620837,
          0.005490979105754831,
          0.011481138130214648,
          0.015474577479854524,
          0.02388932468088141,
          0.018184411324253014,
          0.02403194751479712,
          0.029879483705341225,
          0.05312700563360194,
          0.04378521001212294,
          0.04578192968694288,
          0.05355487413534907,
          0.07430649647008486,
          0.09313271054695857,
          0.12165727733010055,
          0.11802039506524994,
          0.09527205305569422,
          0.07088354845610782,
          0.04849176353134137,
          0.02980817228838337,
          0.012194252299793196
         ]
        },
        {
         "name": "Electronics Store",
         "type": "scatter",
         "x": [
          1,
          2,
          3,
          4,
          5,
          6,
          7,
          8,
          9,
          10,
          11,
          12,
          13,
          14,
          15,
          16,
          17,
          18,
          19,
          20,
          21,
          22,
          23,
          24
         ],
         "y": [
          0.00009176837661741764,
          0.00018353675323483528,
          0,
          0.00009176837661741764,
          0.00009176837661741764,
          0.00036707350646967055,
          0.0015600624024961,
          0.0021106726622006056,
          0.010553363311003029,
          0.024318619803615674,
          0.0358814352574103,
          0.04983022850325778,
          0.0613930439570524,
          0.07396531155363861,
          0.08919886207212994,
          0.1056254014866477,
          0.11296687161604112,
          0.14646232908139856,
          0.13499128200422134,
          0.09351197577314857,
          0.046067725061943655,
          0.007892080389097916,
          0.0021106726622006056,
          0.0007341470129393411
         ]
        },
        {
         "name": "Mall",
         "type": "scatter",
         "x": [
          1,
          2,
          3,
          4,
          5,
          6,
          7,
          8,
          9,
          10,
          11,
          12,
          13,
          14,
          15,
          16,
          17,
          18,
          19,
          20,
          21,
          22,
          23,
          24
         ],
         "y": [
          0.0009225943352707814,
          0.0008303349017437033,
          0.0008303349017437033,
          0.0009225943352707814,
          0.0027677830058123443,
          0.004612971676353907,
          0.021219669711227972,
          0.03256758003505859,
          0.04428452809299751,
          0.02943075929513793,
          0.04400774979241628,
          0.05461758464803026,
          0.05876925915674878,
          0.06042992896023618,
          0.07602177322631239,
          0.08266445244026202,
          0.10333056555032752,
          0.116892702278808,
          0.11366362210536027,
          0.07620629209336655,
          0.04059415075191438,
          0.01992803764184888,
          0.008764646185072424,
          0.005720084878678845
         ]
        },
        {
         "name": "Coffee Shop",
         "type": "scatter",
         "x": [
          1,
          2,
          3,
          4,
          5,
          6,
          7,
          8,
          9,
          10,
          11,
          12,
          13,
          14,
          15,
          16,
          17,
          18,
          19,
          20,
          21,
          22,
          23,
          24
         ],
         "y": [
          0.0003348588012054917,
          0.00011161960040183056,
          0,
          0.0003348588012054917,
          0.0026788704096439337,
          0.010827101238977564,
          0.03940171894184619,
          0.08918406072106262,
          0.05748409420694274,
          0.034490456524165644,
          0.038508762138631546,
          0.06529746623507088,
          0.06395803103024891,
          0.07165978345797522,
          0.08025449268891617,
          0.08025449268891617,
          0.07958477508650519,
          0.0938720839379395,
          0.07500837147003014,
          0.05592141980131711,
          0.040183056144659,
          0.014957026453845295,
          0.004353164415671392,
          0.0013394352048219668
         ]
        }
       ],
       "layout": {
        "margin": {
         "b": 20,
         "l": 20,
         "r": 30,
         "t": 20
        },
        "template": {
         "data": {
          "bar": [
           {
            "error_x": {
             "color": "#2a3f5f"
            },
            "error_y": {
             "color": "#2a3f5f"
            },
            "marker": {
             "line": {
              "color": "#E5ECF6",
              "width": 0.5
             },
             "pattern": {
              "fillmode": "overlay",
              "size": 10,
              "solidity": 0.2
             }
            },
            "type": "bar"
           }
          ],
          "barpolar": [
           {
            "marker": {
             "line": {
              "color": "#E5ECF6",
              "width": 0.5
             },
             "pattern": {
              "fillmode": "overlay",
              "size": 10,
              "solidity": 0.2
             }
            },
            "type": "barpolar"
           }
          ],
          "carpet": [
           {
            "aaxis": {
             "endlinecolor": "#2a3f5f",
             "gridcolor": "white",
             "linecolor": "white",
             "minorgridcolor": "white",
             "startlinecolor": "#2a3f5f"
            },
            "baxis": {
             "endlinecolor": "#2a3f5f",
             "gridcolor": "white",
             "linecolor": "white",
             "minorgridcolor": "white",
             "startlinecolor": "#2a3f5f"
            },
            "type": "carpet"
           }
          ],
          "choropleth": [
           {
            "colorbar": {
             "outlinewidth": 0,
             "ticks": ""
            },
            "type": "choropleth"
           }
          ],
          "contour": [
           {
            "colorbar": {
             "outlinewidth": 0,
             "ticks": ""
            },
            "colorscale": [
             [
              0,
              "#0d0887"
             ],
             [
              0.1111111111111111,
              "#46039f"
             ],
             [
              0.2222222222222222,
              "#7201a8"
             ],
             [
              0.3333333333333333,
              "#9c179e"
             ],
             [
              0.4444444444444444,
              "#bd3786"
             ],
             [
              0.5555555555555556,
              "#d8576b"
             ],
             [
              0.6666666666666666,
              "#ed7953"
             ],
             [
              0.7777777777777778,
              "#fb9f3a"
             ],
             [
              0.8888888888888888,
              "#fdca26"
             ],
             [
              1,
              "#f0f921"
             ]
            ],
            "type": "contour"
           }
          ],
          "contourcarpet": [
           {
            "colorbar": {
             "outlinewidth": 0,
             "ticks": ""
            },
            "type": "contourcarpet"
           }
          ],
          "heatmap": [
           {
            "colorbar": {
             "outlinewidth": 0,
             "ticks": ""
            },
            "colorscale": [
             [
              0,
              "#0d0887"
             ],
             [
              0.1111111111111111,
              "#46039f"
             ],
             [
              0.2222222222222222,
              "#7201a8"
             ],
             [
              0.3333333333333333,
              "#9c179e"
             ],
             [
              0.4444444444444444,
              "#bd3786"
             ],
             [
              0.5555555555555556,
              "#d8576b"
             ],
             [
              0.6666666666666666,
              "#ed7953"
             ],
             [
              0.7777777777777778,
              "#fb9f3a"
             ],
             [
              0.8888888888888888,
              "#fdca26"
             ],
             [
              1,
              "#f0f921"
             ]
            ],
            "type": "heatmap"
           }
          ],
          "heatmapgl": [
           {
            "colorbar": {
             "outlinewidth": 0,
             "ticks": ""
            },
            "colorscale": [
             [
              0,
              "#0d0887"
             ],
             [
              0.1111111111111111,
              "#46039f"
             ],
             [
              0.2222222222222222,
              "#7201a8"
             ],
             [
              0.3333333333333333,
              "#9c179e"
             ],
             [
              0.4444444444444444,
              "#bd3786"
             ],
             [
              0.5555555555555556,
              "#d8576b"
             ],
             [
              0.6666666666666666,
              "#ed7953"
             ],
             [
              0.7777777777777778,
              "#fb9f3a"
             ],
             [
              0.8888888888888888,
              "#fdca26"
             ],
             [
              1,
              "#f0f921"
             ]
            ],
            "type": "heatmapgl"
           }
          ],
          "histogram": [
           {
            "marker": {
             "pattern": {
              "fillmode": "overlay",
              "size": 10,
              "solidity": 0.2
             }
            },
            "type": "histogram"
           }
          ],
          "histogram2d": [
           {
            "colorbar": {
             "outlinewidth": 0,
             "ticks": ""
            },
            "colorscale": [
             [
              0,
              "#0d0887"
             ],
             [
              0.1111111111111111,
              "#46039f"
             ],
             [
              0.2222222222222222,
              "#7201a8"
             ],
             [
              0.3333333333333333,
              "#9c179e"
             ],
             [
              0.4444444444444444,
              "#bd3786"
             ],
             [
              0.5555555555555556,
              "#d8576b"
             ],
             [
              0.6666666666666666,
              "#ed7953"
             ],
             [
              0.7777777777777778,
              "#fb9f3a"
             ],
             [
              0.8888888888888888,
              "#fdca26"
             ],
             [
              1,
              "#f0f921"
             ]
            ],
            "type": "histogram2d"
           }
          ],
          "histogram2dcontour": [
           {
            "colorbar": {
             "outlinewidth": 0,
             "ticks": ""
            },
            "colorscale": [
             [
              0,
              "#0d0887"
             ],
             [
              0.1111111111111111,
              "#46039f"
             ],
             [
              0.2222222222222222,
              "#7201a8"
             ],
             [
              0.3333333333333333,
              "#9c179e"
             ],
             [
              0.4444444444444444,
              "#bd3786"
             ],
             [
              0.5555555555555556,
              "#d8576b"
             ],
             [
              0.6666666666666666,
              "#ed7953"
             ],
             [
              0.7777777777777778,
              "#fb9f3a"
             ],
             [
              0.8888888888888888,
              "#fdca26"
             ],
             [
              1,
              "#f0f921"
             ]
            ],
            "type": "histogram2dcontour"
           }
          ],
          "mesh3d": [
           {
            "colorbar": {
             "outlinewidth": 0,
             "ticks": ""
            },
            "type": "mesh3d"
           }
          ],
          "parcoords": [
           {
            "line": {
             "colorbar": {
              "outlinewidth": 0,
              "ticks": ""
             }
            },
            "type": "parcoords"
           }
          ],
          "pie": [
           {
            "automargin": true,
            "type": "pie"
           }
          ],
          "scatter": [
           {
            "fillpattern": {
             "fillmode": "overlay",
             "size": 10,
             "solidity": 0.2
            },
            "type": "scatter"
           }
          ],
          "scatter3d": [
           {
            "line": {
             "colorbar": {
              "outlinewidth": 0,
              "ticks": ""
             }
            },
            "marker": {
             "colorbar": {
              "outlinewidth": 0,
              "ticks": ""
             }
            },
            "type": "scatter3d"
           }
          ],
          "scattercarpet": [
           {
            "marker": {
             "colorbar": {
              "outlinewidth": 0,
              "ticks": ""
             }
            },
            "type": "scattercarpet"
           }
          ],
          "scattergeo": [
           {
            "marker": {
             "colorbar": {
              "outlinewidth": 0,
              "ticks": ""
             }
            },
            "type": "scattergeo"
           }
          ],
          "scattergl": [
           {
            "marker": {
             "colorbar": {
              "outlinewidth": 0,
              "ticks": ""
             }
            },
            "type": "scattergl"
           }
          ],
          "scattermapbox": [
           {
            "marker": {
             "colorbar": {
              "outlinewidth": 0,
              "ticks": ""
             }
            },
            "type": "scattermapbox"
           }
          ],
          "scatterpolar": [
           {
            "marker": {
             "colorbar": {
              "outlinewidth": 0,
              "ticks": ""
             }
            },
            "type": "scatterpolar"
           }
          ],
          "scatterpolargl": [
           {
            "marker": {
             "colorbar": {
              "outlinewidth": 0,
              "ticks": ""
             }
            },
            "type": "scatterpolargl"
           }
          ],
          "scatterternary": [
           {
            "marker": {
             "colorbar": {
              "outlinewidth": 0,
              "ticks": ""
             }
            },
            "type": "scatterternary"
           }
          ],
          "surface": [
           {
            "colorbar": {
             "outlinewidth": 0,
             "ticks": ""
            },
            "colorscale": [
             [
              0,
              "#0d0887"
             ],
             [
              0.1111111111111111,
              "#46039f"
             ],
             [
              0.2222222222222222,
              "#7201a8"
             ],
             [
              0.3333333333333333,
              "#9c179e"
             ],
             [
              0.4444444444444444,
              "#bd3786"
             ],
             [
              0.5555555555555556,
              "#d8576b"
             ],
             [
              0.6666666666666666,
              "#ed7953"
             ],
             [
              0.7777777777777778,
              "#fb9f3a"
             ],
             [
              0.8888888888888888,
              "#fdca26"
             ],
             [
              1,
              "#f0f921"
             ]
            ],
            "type": "surface"
           }
          ],
          "table": [
           {
            "cells": {
             "fill": {
              "color": "#EBF0F8"
             },
             "line": {
              "color": "white"
             }
            },
            "header": {
             "fill": {
              "color": "#C8D4E3"
             },
             "line": {
              "color": "white"
             }
            },
            "type": "table"
           }
          ]
         },
         "layout": {
          "annotationdefaults": {
           "arrowcolor": "#2a3f5f",
           "arrowhead": 0,
           "arrowwidth": 1
          },
          "autotypenumbers": "strict",
          "coloraxis": {
           "colorbar": {
            "outlinewidth": 0,
            "ticks": ""
           }
          },
          "colorscale": {
           "diverging": [
            [
             0,
             "#8e0152"
            ],
            [
             0.1,
             "#c51b7d"
            ],
            [
             0.2,
             "#de77ae"
            ],
            [
             0.3,
             "#f1b6da"
            ],
            [
             0.4,
             "#fde0ef"
            ],
            [
             0.5,
             "#f7f7f7"
            ],
            [
             0.6,
             "#e6f5d0"
            ],
            [
             0.7,
             "#b8e186"
            ],
            [
             0.8,
             "#7fbc41"
            ],
            [
             0.9,
             "#4d9221"
            ],
            [
             1,
             "#276419"
            ]
           ],
           "sequential": [
            [
             0,
             "#0d0887"
            ],
            [
             0.1111111111111111,
             "#46039f"
            ],
            [
             0.2222222222222222,
             "#7201a8"
            ],
            [
             0.3333333333333333,
             "#9c179e"
            ],
            [
             0.4444444444444444,
             "#bd3786"
            ],
            [
             0.5555555555555556,
             "#d8576b"
            ],
            [
             0.6666666666666666,
             "#ed7953"
            ],
            [
             0.7777777777777778,
             "#fb9f3a"
            ],
            [
             0.8888888888888888,
             "#fdca26"
            ],
            [
             1,
             "#f0f921"
            ]
           ],
           "sequentialminus": [
            [
             0,
             "#0d0887"
            ],
            [
             0.1111111111111111,
             "#46039f"
            ],
            [
             0.2222222222222222,
             "#7201a8"
            ],
            [
             0.3333333333333333,
             "#9c179e"
            ],
            [
             0.4444444444444444,
             "#bd3786"
            ],
            [
             0.5555555555555556,
             "#d8576b"
            ],
            [
             0.6666666666666666,
             "#ed7953"
            ],
            [
             0.7777777777777778,
             "#fb9f3a"
            ],
            [
             0.8888888888888888,
             "#fdca26"
            ],
            [
             1,
             "#f0f921"
            ]
           ]
          },
          "colorway": [
           "#636efa",
           "#EF553B",
           "#00cc96",
           "#ab63fa",
           "#FFA15A",
           "#19d3f3",
           "#FF6692",
           "#B6E880",
           "#FF97FF",
           "#FECB52"
          ],
          "font": {
           "color": "#2a3f5f"
          },
          "geo": {
           "bgcolor": "white",
           "lakecolor": "white",
           "landcolor": "#E5ECF6",
           "showlakes": true,
           "showland": true,
           "subunitcolor": "white"
          },
          "hoverlabel": {
           "align": "left"
          },
          "hovermode": "closest",
          "mapbox": {
           "style": "light"
          },
          "paper_bgcolor": "white",
          "plot_bgcolor": "#E5ECF6",
          "polar": {
           "angularaxis": {
            "gridcolor": "white",
            "linecolor": "white",
            "ticks": ""
           },
           "bgcolor": "#E5ECF6",
           "radialaxis": {
            "gridcolor": "white",
            "linecolor": "white",
            "ticks": ""
           }
          },
          "scene": {
           "xaxis": {
            "backgroundcolor": "#E5ECF6",
            "gridcolor": "white",
            "gridwidth": 2,
            "linecolor": "white",
            "showbackground": true,
            "ticks": "",
            "zerolinecolor": "white"
           },
           "yaxis": {
            "backgroundcolor": "#E5ECF6",
            "gridcolor": "white",
            "gridwidth": 2,
            "linecolor": "white",
            "showbackground": true,
            "ticks": "",
            "zerolinecolor": "white"
           },
           "zaxis": {
            "backgroundcolor": "#E5ECF6",
            "gridcolor": "white",
            "gridwidth": 2,
            "linecolor": "white",
            "showbackground": true,
            "ticks": "",
            "zerolinecolor": "white"
           }
          },
          "shapedefaults": {
           "line": {
            "color": "#2a3f5f"
           }
          },
          "ternary": {
           "aaxis": {
            "gridcolor": "white",
            "linecolor": "white",
            "ticks": ""
           },
           "baxis": {
            "gridcolor": "white",
            "linecolor": "white",
            "ticks": ""
           },
           "bgcolor": "#E5ECF6",
           "caxis": {
            "gridcolor": "white",
            "linecolor": "white",
            "ticks": ""
           }
          },
          "title": {
           "x": 0.05
          },
          "xaxis": {
           "automargin": true,
           "gridcolor": "white",
           "linecolor": "white",
           "ticks": "",
           "title": {
            "standoff": 15
           },
           "zerolinecolor": "white",
           "zerolinewidth": 2
          },
          "yaxis": {
           "automargin": true,
           "gridcolor": "white",
           "linecolor": "white",
           "ticks": "",
           "title": {
            "standoff": 15
           },
           "zerolinecolor": "white",
           "zerolinewidth": 2
          }
         }
        }
       }
      }
     },
     "metadata": {},
     "output_type": "display_data"
    }
   ],
   "source": [
    "fig = go.Figure()\n",
    "for i in range(10):\n",
    "    venueCategory = venueCategorys[i]\n",
    "    hour_data = data[data[\"venueCategory\"] == venueCategory][\"hour\"].to_numpy()\n",
    "    y = np.zeros(24) \n",
    "    for j in hour_data:\n",
    "        y[j-1] += 1\n",
    "    y /= len(hour_data)\n",
    "    fig.add_trace(go.Scatter(\t\t\n",
    "    x=list(range(1, 25)),\t\t\t\t\n",
    "    y=y,\n",
    "    name=venueCategory\n",
    "))\n",
    "fig.update_layout(\n",
    "    margin=dict(l=20, r=30, t=20, b=20))\n",
    "fig.show()"
   ]
  },
  {
   "cell_type": "code",
   "execution_count": 132,
   "metadata": {},
   "outputs": [
    {
     "ename": "KeyError",
     "evalue": "'weekday'",
     "output_type": "error",
     "traceback": [
      "\u001b[1;31m---------------------------------------------------------------------------\u001b[0m",
      "\u001b[1;31mKeyError\u001b[0m                                  Traceback (most recent call last)",
      "\u001b[1;32md:\\ProgramData\\Anaconda3\\lib\\site-packages\\pandas\\core\\indexes\\base.py\u001b[0m in \u001b[0;36mget_loc\u001b[1;34m(self, key, method, tolerance)\u001b[0m\n\u001b[0;32m   2894\u001b[0m             \u001b[1;32mtry\u001b[0m\u001b[1;33m:\u001b[0m\u001b[1;33m\u001b[0m\u001b[1;33m\u001b[0m\u001b[0m\n\u001b[1;32m-> 2895\u001b[1;33m                 \u001b[1;32mreturn\u001b[0m \u001b[0mself\u001b[0m\u001b[1;33m.\u001b[0m\u001b[0m_engine\u001b[0m\u001b[1;33m.\u001b[0m\u001b[0mget_loc\u001b[0m\u001b[1;33m(\u001b[0m\u001b[0mcasted_key\u001b[0m\u001b[1;33m)\u001b[0m\u001b[1;33m\u001b[0m\u001b[1;33m\u001b[0m\u001b[0m\n\u001b[0m\u001b[0;32m   2896\u001b[0m             \u001b[1;32mexcept\u001b[0m \u001b[0mKeyError\u001b[0m \u001b[1;32mas\u001b[0m \u001b[0merr\u001b[0m\u001b[1;33m:\u001b[0m\u001b[1;33m\u001b[0m\u001b[1;33m\u001b[0m\u001b[0m\n",
      "\u001b[1;32mpandas\\_libs\\index.pyx\u001b[0m in \u001b[0;36mpandas._libs.index.IndexEngine.get_loc\u001b[1;34m()\u001b[0m\n",
      "\u001b[1;32mpandas\\_libs\\index.pyx\u001b[0m in \u001b[0;36mpandas._libs.index.IndexEngine.get_loc\u001b[1;34m()\u001b[0m\n",
      "\u001b[1;32mpandas\\_libs\\hashtable_class_helper.pxi\u001b[0m in \u001b[0;36mpandas._libs.hashtable.PyObjectHashTable.get_item\u001b[1;34m()\u001b[0m\n",
      "\u001b[1;32mpandas\\_libs\\hashtable_class_helper.pxi\u001b[0m in \u001b[0;36mpandas._libs.hashtable.PyObjectHashTable.get_item\u001b[1;34m()\u001b[0m\n",
      "\u001b[1;31mKeyError\u001b[0m: 'weekday'",
      "\nThe above exception was the direct cause of the following exception:\n",
      "\u001b[1;31mKeyError\u001b[0m                                  Traceback (most recent call last)",
      "\u001b[1;32m<ipython-input-132-28c83df779a0>\u001b[0m in \u001b[0;36m<module>\u001b[1;34m\u001b[0m\n\u001b[0;32m      2\u001b[0m \u001b[1;32mfor\u001b[0m \u001b[0mi\u001b[0m \u001b[1;32min\u001b[0m \u001b[0mrange\u001b[0m\u001b[1;33m(\u001b[0m\u001b[1;36m10\u001b[0m\u001b[1;33m)\u001b[0m\u001b[1;33m:\u001b[0m\u001b[1;33m\u001b[0m\u001b[1;33m\u001b[0m\u001b[0m\n\u001b[0;32m      3\u001b[0m     \u001b[0mvenueCategory\u001b[0m \u001b[1;33m=\u001b[0m \u001b[0mvenueCategorys\u001b[0m\u001b[1;33m[\u001b[0m\u001b[0mi\u001b[0m\u001b[1;33m]\u001b[0m\u001b[1;33m\u001b[0m\u001b[1;33m\u001b[0m\u001b[0m\n\u001b[1;32m----> 4\u001b[1;33m     \u001b[0mweekday_data\u001b[0m \u001b[1;33m=\u001b[0m \u001b[0mdata\u001b[0m\u001b[1;33m[\u001b[0m\u001b[0mdata\u001b[0m\u001b[1;33m[\u001b[0m\u001b[1;34m\"venueCategory\"\u001b[0m\u001b[1;33m]\u001b[0m \u001b[1;33m==\u001b[0m \u001b[0mvenueCategory\u001b[0m\u001b[1;33m]\u001b[0m\u001b[1;33m[\u001b[0m\u001b[1;34m\"weekday\"\u001b[0m\u001b[1;33m]\u001b[0m\u001b[1;33m.\u001b[0m\u001b[0mto_numpy\u001b[0m\u001b[1;33m(\u001b[0m\u001b[1;33m)\u001b[0m\u001b[1;33m\u001b[0m\u001b[1;33m\u001b[0m\u001b[0m\n\u001b[0m\u001b[0;32m      5\u001b[0m     \u001b[0my\u001b[0m \u001b[1;33m=\u001b[0m \u001b[0mnp\u001b[0m\u001b[1;33m.\u001b[0m\u001b[0mzeros\u001b[0m\u001b[1;33m(\u001b[0m\u001b[1;36m7\u001b[0m\u001b[1;33m)\u001b[0m\u001b[1;33m\u001b[0m\u001b[1;33m\u001b[0m\u001b[0m\n\u001b[0;32m      6\u001b[0m     \u001b[1;32mfor\u001b[0m \u001b[0mj\u001b[0m \u001b[1;32min\u001b[0m \u001b[0mweekday_data\u001b[0m\u001b[1;33m:\u001b[0m\u001b[1;33m\u001b[0m\u001b[1;33m\u001b[0m\u001b[0m\n",
      "\u001b[1;32md:\\ProgramData\\Anaconda3\\lib\\site-packages\\pandas\\core\\frame.py\u001b[0m in \u001b[0;36m__getitem__\u001b[1;34m(self, key)\u001b[0m\n\u001b[0;32m   2900\u001b[0m             \u001b[1;32mif\u001b[0m \u001b[0mself\u001b[0m\u001b[1;33m.\u001b[0m\u001b[0mcolumns\u001b[0m\u001b[1;33m.\u001b[0m\u001b[0mnlevels\u001b[0m \u001b[1;33m>\u001b[0m \u001b[1;36m1\u001b[0m\u001b[1;33m:\u001b[0m\u001b[1;33m\u001b[0m\u001b[1;33m\u001b[0m\u001b[0m\n\u001b[0;32m   2901\u001b[0m                 \u001b[1;32mreturn\u001b[0m \u001b[0mself\u001b[0m\u001b[1;33m.\u001b[0m\u001b[0m_getitem_multilevel\u001b[0m\u001b[1;33m(\u001b[0m\u001b[0mkey\u001b[0m\u001b[1;33m)\u001b[0m\u001b[1;33m\u001b[0m\u001b[1;33m\u001b[0m\u001b[0m\n\u001b[1;32m-> 2902\u001b[1;33m             \u001b[0mindexer\u001b[0m \u001b[1;33m=\u001b[0m \u001b[0mself\u001b[0m\u001b[1;33m.\u001b[0m\u001b[0mcolumns\u001b[0m\u001b[1;33m.\u001b[0m\u001b[0mget_loc\u001b[0m\u001b[1;33m(\u001b[0m\u001b[0mkey\u001b[0m\u001b[1;33m)\u001b[0m\u001b[1;33m\u001b[0m\u001b[1;33m\u001b[0m\u001b[0m\n\u001b[0m\u001b[0;32m   2903\u001b[0m             \u001b[1;32mif\u001b[0m \u001b[0mis_integer\u001b[0m\u001b[1;33m(\u001b[0m\u001b[0mindexer\u001b[0m\u001b[1;33m)\u001b[0m\u001b[1;33m:\u001b[0m\u001b[1;33m\u001b[0m\u001b[1;33m\u001b[0m\u001b[0m\n\u001b[0;32m   2904\u001b[0m                 \u001b[0mindexer\u001b[0m \u001b[1;33m=\u001b[0m \u001b[1;33m[\u001b[0m\u001b[0mindexer\u001b[0m\u001b[1;33m]\u001b[0m\u001b[1;33m\u001b[0m\u001b[1;33m\u001b[0m\u001b[0m\n",
      "\u001b[1;32md:\\ProgramData\\Anaconda3\\lib\\site-packages\\pandas\\core\\indexes\\base.py\u001b[0m in \u001b[0;36mget_loc\u001b[1;34m(self, key, method, tolerance)\u001b[0m\n\u001b[0;32m   2895\u001b[0m                 \u001b[1;32mreturn\u001b[0m \u001b[0mself\u001b[0m\u001b[1;33m.\u001b[0m\u001b[0m_engine\u001b[0m\u001b[1;33m.\u001b[0m\u001b[0mget_loc\u001b[0m\u001b[1;33m(\u001b[0m\u001b[0mcasted_key\u001b[0m\u001b[1;33m)\u001b[0m\u001b[1;33m\u001b[0m\u001b[1;33m\u001b[0m\u001b[0m\n\u001b[0;32m   2896\u001b[0m             \u001b[1;32mexcept\u001b[0m \u001b[0mKeyError\u001b[0m \u001b[1;32mas\u001b[0m \u001b[0merr\u001b[0m\u001b[1;33m:\u001b[0m\u001b[1;33m\u001b[0m\u001b[1;33m\u001b[0m\u001b[0m\n\u001b[1;32m-> 2897\u001b[1;33m                 \u001b[1;32mraise\u001b[0m \u001b[0mKeyError\u001b[0m\u001b[1;33m(\u001b[0m\u001b[0mkey\u001b[0m\u001b[1;33m)\u001b[0m \u001b[1;32mfrom\u001b[0m \u001b[0merr\u001b[0m\u001b[1;33m\u001b[0m\u001b[1;33m\u001b[0m\u001b[0m\n\u001b[0m\u001b[0;32m   2898\u001b[0m \u001b[1;33m\u001b[0m\u001b[0m\n\u001b[0;32m   2899\u001b[0m         \u001b[1;32mif\u001b[0m \u001b[0mtolerance\u001b[0m \u001b[1;32mis\u001b[0m \u001b[1;32mnot\u001b[0m \u001b[1;32mNone\u001b[0m\u001b[1;33m:\u001b[0m\u001b[1;33m\u001b[0m\u001b[1;33m\u001b[0m\u001b[0m\n",
      "\u001b[1;31mKeyError\u001b[0m: 'weekday'"
     ]
    }
   ],
   "source": [
    "fig = go.Figure()\n",
    "for i in range(10):\n",
    "    venueCategory = venueCategorys[i]\n",
    "    weekday_data = data[data[\"venueCategory\"] == venueCategory][\"weekday\"].to_numpy()\n",
    "    y = np.zeros(7) \n",
    "    for j in weekday_data:\n",
    "        y[j-1] += 1\n",
    "    y /= len(weekday_data)\n",
    "    fig.add_trace(go.Scatter(\t\t\n",
    "    x=list(range(1, 8)),\t\t\t\t\n",
    "    y=y,\n",
    "    name=venueCategory\n",
    "))\n",
    "fig.update_layout(\n",
    "    margin=dict(l=20, r=30, t=20, b=20))\n",
    "fig.show()"
   ]
  },
  {
   "attachments": {},
   "cell_type": "markdown",
   "metadata": {},
   "source": [
    "一天内时间也显然有区别"
   ]
  },
  {
   "cell_type": "code",
   "execution_count": 20,
   "metadata": {},
   "outputs": [],
   "source": [
    "fig = px.histogram(data[data[\"venueCategory\"].isin(venueCategorys[:50])], x=\"hour\", animation_frame=\"venueCategory\", histnorm='percent')\n",
    "fig.write_html(save_path + \"hour_venueCategory\" + suffix)"
   ]
  },
  {
   "attachments": {},
   "cell_type": "markdown",
   "metadata": {},
   "source": [
    "单个/一类用户空间可视化"
   ]
  },
  {
   "cell_type": "code",
   "execution_count": 72,
   "metadata": {},
   "outputs": [],
   "source": [
    "def draw_density(data, save_path, animation_frame=None, special_class=None, special_name=None, hover_data=None):\n",
    "    if special_class is not None:\n",
    "        new_data = data[data[special_class].isin(special_name)]\n",
    "    else:\n",
    "        new_data = data\n",
    "    fig = px.density_mapbox(new_data, lat=\"latitude\", lon=\"longitude\", radius=1,\n",
    "                        center=dict(lat=35.66, lon=139.73), zoom=10,\n",
    "                        mapbox_style=\"open-street-map\",\n",
    "                        animation_frame=animation_frame,\n",
    "                        hover_data=hover_data)\n",
    "    fig.write_html(save_path)"
   ]
  },
  {
   "attachments": {},
   "cell_type": "markdown",
   "metadata": {},
   "source": [
    "单个用户"
   ]
  },
  {
   "cell_type": "code",
   "execution_count": 29,
   "metadata": {},
   "outputs": [
    {
     "name": "stdout",
     "output_type": "stream",
     "text": [
      "[1972]\n"
     ]
    }
   ],
   "source": [
    "userID = np.random.choice(userIDs, 1)\n",
    "print(userID)"
   ]
  },
  {
   "attachments": {},
   "cell_type": "markdown",
   "metadata": {},
   "source": [
    "总体分布"
   ]
  },
  {
   "cell_type": "code",
   "execution_count": 38,
   "metadata": {},
   "outputs": [],
   "source": [
    "draw_density(clean_data, save_path + \"all_density\" + suffix)"
   ]
  },
  {
   "attachments": {},
   "cell_type": "markdown",
   "metadata": {},
   "source": [
    "单个用户分布"
   ]
  },
  {
   "cell_type": "code",
   "execution_count": 54,
   "metadata": {},
   "outputs": [],
   "source": [
    "draw_density(data, save_path + str(userID) + \"_density\" + suffix, special_class=\"userId\", special_name=userID)"
   ]
  },
  {
   "attachments": {},
   "cell_type": "markdown",
   "metadata": {},
   "source": [
    "2. 总体分析在时间上的分布，再对单个/一类用户时间可视化（分为按日期和按一天内时段）"
   ]
  },
  {
   "attachments": {},
   "cell_type": "markdown",
   "metadata": {},
   "source": [
    "总体的 在一天内时间的分布"
   ]
  },
  {
   "cell_type": "code",
   "execution_count": 41,
   "metadata": {},
   "outputs": [],
   "source": [
    "draw_density(clean_data, save_path + \"all_hour_density\" + suffix, \"hour\")"
   ]
  },
  {
   "attachments": {},
   "cell_type": "markdown",
   "metadata": {},
   "source": [
    "总体的 一周中的分布"
   ]
  },
  {
   "cell_type": "code",
   "execution_count": 45,
   "metadata": {},
   "outputs": [],
   "source": [
    "draw_density(clean_data, save_path + \"all_weekday_density\" + suffix, \"weekday\")"
   ]
  },
  {
   "attachments": {},
   "cell_type": "markdown",
   "metadata": {},
   "source": [
    "地点之间地理位置的联系: 相邻地点是否更容易被用户访问"
   ]
  },
  {
   "cell_type": "code",
   "execution_count": 56,
   "metadata": {},
   "outputs": [
    {
     "name": "stdout",
     "output_type": "stream",
     "text": [
      "100.3875225692039\n"
     ]
    }
   ],
   "source": [
    "from geopy.distance import geodesic\n",
    "dist = geodesic((37.193462, 100.1347), (37.194363, 100.1348)).m\n",
    "print(dist)"
   ]
  },
  {
   "cell_type": "code",
   "execution_count": 58,
   "metadata": {},
   "outputs": [],
   "source": [
    "from tqdm import tqdm"
   ]
  },
  {
   "cell_type": "code",
   "execution_count": 63,
   "metadata": {},
   "outputs": [
    {
     "data": {
      "text/plain": [
       "8452.557549701727"
      ]
     },
     "execution_count": 63,
     "metadata": {},
     "output_type": "execute_result"
    }
   ],
   "source": [
    "trajs = data.loc[data[\"userId\"] == userID]\n",
    "geodesic((trajs.iloc[0]['latitude'], trajs.iloc[0]['longitude']), (trajs.iloc[1]['latitude'], trajs.iloc[1]['longitude'])).m"
   ]
  },
  {
   "cell_type": "code",
   "execution_count": 65,
   "metadata": {},
   "outputs": [
    {
     "name": "stderr",
     "output_type": "stream",
     "text": [
      "100%|██████████| 2293/2293 [09:27<00:00,  4.04it/s]\n"
     ]
    }
   ],
   "source": [
    "distance = []\n",
    "for userID in tqdm(userIDs):\n",
    "    trajs = data.loc[data[\"userId\"] == userID]\n",
    "    for i in range(1, len(trajs)):\n",
    "        distance.append(geodesic((trajs.iloc[i-1]['latitude'], trajs.iloc[i-1]['longitude']), (trajs.iloc[i]['latitude'], trajs.iloc[i]['longitude'])).m)"
   ]
  },
  {
   "cell_type": "code",
   "execution_count": 68,
   "metadata": {},
   "outputs": [],
   "source": [
    "fig = px.histogram(pd.DataFrame({\"distance\": distance}),\n",
    "    x=\"distance\",\n",
    "    nbins=100)\n",
    "fig.write_html(save_path + \"distance\" + suffix)"
   ]
  },
  {
   "attachments": {},
   "cell_type": "markdown",
   "metadata": {},
   "source": [
    "有联系的用户是否意味着轨迹更相似 用brightkite说明"
   ]
  },
  {
   "cell_type": "code",
   "execution_count": 7,
   "metadata": {},
   "outputs": [
    {
     "name": "stdout",
     "output_type": "stream",
     "text": [
      "Index(['# userId', 'latitude', 'longitude'], dtype='object')\n"
     ]
    }
   ],
   "source": [
    "user_pos = pd.read_csv(\"Foursquare_TKY_user_xy.csv\", header='infer', sep=',')\n",
    "print(user_pos.columns)"
   ]
  },
  {
   "cell_type": "code",
   "execution_count": 73,
   "metadata": {},
   "outputs": [],
   "source": [
    "draw_density(user_pos, save_path + \"user_pos\" + suffix)"
   ]
  },
  {
   "cell_type": "code",
   "execution_count": 8,
   "metadata": {},
   "outputs": [],
   "source": [
    "import pickle"
   ]
  },
  {
   "cell_type": "code",
   "execution_count": 86,
   "metadata": {},
   "outputs": [],
   "source": [
    "with open(\"Foursquare_TKY_user_wv.pkl\", \"rb\") as f:\n",
    "    wv = pickle.load(f)"
   ]
  },
  {
   "cell_type": "code",
   "execution_count": 87,
   "metadata": {},
   "outputs": [],
   "source": [
    "import sklearn.cluster\n",
    "import sklearn.manifold\n",
    "from sklearn.metrics import silhouette_score"
   ]
  },
  {
   "cell_type": "code",
   "execution_count": 89,
   "metadata": {},
   "outputs": [],
   "source": [
    "def kmeans(wv,\n",
    "           n_clusters):\n",
    "    '''\n",
    "    Args:\n",
    "        wv: A dict. dict[userId/venueId] = vec.\n",
    "        n_clusters: The number of clusters.\n",
    "    Returns:\n",
    "        labels result.\n",
    "    '''\n",
    "    \n",
    "    key2idx = {key: idx for idx, key in enumerate(wv.keys())}\n",
    "    idx2key = {idx: key for idx, key in enumerate(wv.keys())}\n",
    "    n_recs = len(wv.keys())\n",
    "    \n",
    "    X = np.stack([wv[idx2key[idx]] for idx in range(n_recs)], axis=0)      # [N, k]. k is the size of vec.\n",
    "    kmeans = sklearn.cluster.KMeans(n_clusters=n_clusters,\n",
    "                                    random_state=21).fit(X)\n",
    "    \n",
    "    labels =  kmeans.labels_\n",
    "    inertia = kmeans.inertia_\n",
    "    sil_score = silhouette_score(X, labels)\n",
    "    label_dict = {}                                                        # label_dict[userId] = label\n",
    "    label_result = {label: [] for label in range(n_clusters)}              # label_result[label] = users\n",
    "    for idx in range(n_recs):\n",
    "        label_dict[idx2key[idx]] = labels[idx]\n",
    "        label_result[labels[idx]].append(idx2key[idx])\n",
    "        \n",
    "    return label_dict, label_result, inertia, sil_score"
   ]
  },
  {
   "cell_type": "code",
   "execution_count": 126,
   "metadata": {},
   "outputs": [],
   "source": [
    "def tsne(wv,\n",
    "         n_components=2):\n",
    "    '''\n",
    "    Args:\n",
    "        wv: A dict. dict[userId/venueId] = vec.\n",
    "        n_components: The dim of the embedded space.\n",
    "    Returns:\n",
    "        A dict like wv. dict[userId/venueId] = embedded vec.\n",
    "    '''\n",
    "    \n",
    "    key2idx = {key: idx for idx, key in enumerate(wv.keys())}\n",
    "    idx2key = {idx: key for idx, key in enumerate(wv.keys())}\n",
    "    n_recs = len(wv.keys())\n",
    "    \n",
    "    X = np.stack([wv[idx2key[idx]] for idx in range(n_recs)], axis=0)    # [N, k]. k is the size of vec.\n",
    "    X_embedded = sklearn.manifold.TSNE(n_components=n_components).fit_transform(X) # [N, n_components].\n",
    "    \n",
    "    embedded_wv = {}\n",
    "    for idx in range(n_recs):\n",
    "        embedded_wv[idx2key[idx]] = X_embedded[idx, :]\n",
    "        \n",
    "    return embedded_wv"
   ]
  },
  {
   "cell_type": "code",
   "execution_count": 131,
   "metadata": {},
   "outputs": [],
   "source": [
    "def spectral_clustering(wv,\n",
    "                        n_clusters=8):\n",
    "    '''\n",
    "    Args:\n",
    "        wv: A dict. dict[userId/venueId] = vec.\n",
    "        n_clusters: The number of clusters.\n",
    "    Returns:\n",
    "        labels result.    \n",
    "    '''\n",
    "    \n",
    "    key2idx = {key: idx for idx, key in enumerate(wv.keys())}\n",
    "    idx2key = {idx: key for idx, key in enumerate(wv.keys())}\n",
    "    n_recs = len(wv.keys())\n",
    "    \n",
    "    X = np.stack([wv[idx2key[idx]] for idx in range(n_recs)], axis=0)      # [N, k]. k is the size of vec.\n",
    "    clustering = sklearn.cluster.SpectralClustering(n_clusters=n_clusters,\n",
    "                                                    random_state=21,\n",
    "                                                    assign_labels='discretize').fit(X)    \n",
    "    labels =  clustering.labels_\n",
    "    label_dict = {}                                                        # label_dict[userId] = label\n",
    "    label_result = {label: [] for label in range(n_clusters)}              # label_result[label] = users\n",
    "    for idx in range(n_recs):\n",
    "        label_dict[idx2key[idx]] = labels[idx]\n",
    "        label_result[labels[idx]].append(idx2key[idx])\n",
    "        \n",
    "    return label_dict, label_result"
   ]
  },
  {
   "cell_type": "code",
   "execution_count": 133,
   "metadata": {},
   "outputs": [],
   "source": [
    "label_dict, label_result, inertia, sil_score = kmeans(tsne(wv), 6)"
   ]
  },
  {
   "cell_type": "code",
   "execution_count": 148,
   "metadata": {},
   "outputs": [
    {
     "data": {
      "text/plain": [
       "str"
      ]
     },
     "execution_count": 148,
     "metadata": {},
     "output_type": "execute_result"
    }
   ],
   "source": [
    "type(label_result[0][0])"
   ]
  },
  {
   "cell_type": "code",
   "execution_count": 134,
   "metadata": {},
   "outputs": [],
   "source": [
    "user_pos[\"class\"] = user_pos.apply(lambda x: label_dict[str(int(x[\"# userId\"]))], axis=1)"
   ]
  },
  {
   "cell_type": "code",
   "execution_count": 143,
   "metadata": {},
   "outputs": [
    {
     "data": {
      "text/plain": [
       "Index(['# userId', 'latitude', 'longitude', 'class', 'class_tsne'], dtype='object')"
      ]
     },
     "execution_count": 143,
     "metadata": {},
     "output_type": "execute_result"
    }
   ],
   "source": [
    "user_pos.columns"
   ]
  },
  {
   "cell_type": "code",
   "execution_count": 163,
   "metadata": {},
   "outputs": [],
   "source": [
    "fig = px.scatter_mapbox(user_pos,\n",
    "                        lon='longitude',\n",
    "                        lat='latitude',\n",
    "                        color='class',\n",
    "                        mapbox_style=\"open-street-map\",\n",
    "                        zoom=10,)\n",
    "fig.write_html(save_path + \"user_pos\" + suffix)"
   ]
  },
  {
   "cell_type": "code",
   "execution_count": 161,
   "metadata": {},
   "outputs": [],
   "source": [
    "tsne_class = 5\n",
    "fig = px.density_mapbox(clean_data[clean_data[\"userId\"].isin(label_result[tsne_class])], lat=\"latitude\", lon=\"longitude\", radius=1,\n",
    "                        center=dict(lat=35.66, lon=139.73), zoom=10,\n",
    "                        mapbox_style=\"open-street-map\",\n",
    "                        animation_frame=\"hour\")\n",
    "fig.write_html(save_path + \"user_pos_clean\" + str(tsne_class) + suffix)"
   ]
  },
  {
   "cell_type": "code",
   "execution_count": null,
   "metadata": {},
   "outputs": [],
   "source": [
    "fig = px.density_mapbox(data[data[\"userId\"]], lat=\"latitude\", lon=\"longitude\", radius=1,\n",
    "                        center=dict(lat=35.66, lon=139.73), zoom=10,\n",
    "                        mapbox_style=\"open-street-map\",\n",
    "                        animation_frame=\"hour\")\n",
    "fig.write_html(save_path + \"user_pos_clean\" + str(tsne_class) + suffix)"
   ]
  },
  {
   "cell_type": "code",
   "execution_count": null,
   "metadata": {},
   "outputs": [],
   "source": [
    "fig = make_subplots(rows=3, cols=1) "
   ]
  },
  {
   "cell_type": "code",
   "execution_count": 2,
   "metadata": {},
   "outputs": [],
   "source": [
    "with open(\"Foursquare_TKY_user2label.pkl\", \"rb\") as f:\n",
    "    label_dict = pickle.load(f)"
   ]
  },
  {
   "cell_type": "code",
   "execution_count": 9,
   "metadata": {},
   "outputs": [],
   "source": [
    "with open(\"Foursquare_TKY_label2user.pkl\", \"rb\") as f:\n",
    "    label_result = pickle.load(f)"
   ]
  },
  {
   "cell_type": "code",
   "execution_count": 8,
   "metadata": {},
   "outputs": [],
   "source": [
    "user_pos[\"class\"] = user_pos.apply(lambda x: label_dict[str(int(x[\"# userId\"]))], axis=1)"
   ]
  },
  {
   "cell_type": "code",
   "execution_count": 62,
   "metadata": {},
   "outputs": [],
   "source": [
    "fig = px.scatter_mapbox(user_pos,\n",
    "                        lon='longitude',\n",
    "                        lat='latitude',\n",
    "                        color='class',\n",
    "                        mapbox_style=\"stamen-terrain\",\n",
    "                        zoom=11,\n",
    "                        center=dict(lat=35.66, lon=139.73))\n",
    "fig.write_html(save_path + \"user_pos\" + suffix)"
   ]
  },
  {
   "cell_type": "code",
   "execution_count": 131,
   "metadata": {},
   "outputs": [],
   "source": [
    "class_data = data[data[\"userId\"].isin(label_result[0])]\n",
    "venueCategorys = class_data[\"venueCategory\"].to_numpy()\n",
    "venueCategorys, count=np.unique(venueCategorys, return_counts=True)\n",
    "idx = np.argsort(-count)\n",
    "venueCategorys = venueCategorys[idx]\n",
    "count = count[idx]\n",
    "\n",
    "fig = px.bar(pd.DataFrame({\"venueCategory\": venueCategorys[2:20], \"count\": count[2:20]}),\n",
    "    x=\"venueCategory\",\n",
    "    y=\"count\",\n",
    "    title=\"venueCategory_count\")\n",
    "    \n",
    "fig.write_html(save_path + \"VenueCategoryCount0\" + suffix)"
   ]
  },
  {
   "cell_type": "code",
   "execution_count": 155,
   "metadata": {},
   "outputs": [],
   "source": [
    "# fig = make_subplots(rows=2, \n",
    "#                     cols=3,\n",
    "#                     subplot_titles=[\"类别0\",\"类别1\",\"类别2\",\"类别3\",\"类别4\",\"类别5\"]\n",
    "#                    )\n",
    "fig = go.Figure()\n",
    "# venueCategorys = data[\"venueCategory\"].to_numpy()\n",
    "# venueCategorys, count=np.unique(venueCategorys, return_counts=True)\n",
    "# idx = np.argsort(-count)\n",
    "# venueCategorys = venueCategorys[idx]\n",
    "# count = count[idx]\n",
    "# print(venueCategorys[:30])\n",
    "colors = ['#003371', '#801dae','#c93756','#f47983', '#ffa400', '#fff143']\n",
    "selected_venueCategorys = ['Electronics Store', 'College Academic Building', 'Bar','Government Building','Bridge','Bus Station']\n",
    "# venueCategorys = data[\"venueCategory\"].to_numpy()\n",
    "# venueCategorys=np.unique(venueCategorys)\n",
    "for i in range(6):\n",
    "    class_data = data[data[\"userId\"].isin(label_result[i]) & data[\"venueCategory\"].isin(selected_venueCategorys)]\n",
    "    class_venueCategorys = class_data[\"venueCategory\"].to_numpy()\n",
    "    # print(class_venueCategorys)\n",
    "    count = []\n",
    "    for j in range(len(selected_venueCategorys)):\n",
    "        # print(venueCategorys[2+j])\n",
    "        # print(class_venueCategorys == venueCategorys[2+j])\n",
    "        # count.append(sum(class_venueCategorys == venueCategorys[j])/len(data[data[\"venueCategory\"]==venueCategorys[j]]))\n",
    "        count.append(sum(class_venueCategorys == selected_venueCategorys[j])/len(class_venueCategorys))\n",
    "\n",
    "    fig.add_trace(\n",
    "        go.Bar(\n",
    "        x=selected_venueCategorys,\n",
    "        y=count,\n",
    "        name=\"类\" + str(i),\n",
    "        marker_color=colors[i]),\n",
    "    )\n",
    "fig.write_html(save_path + \"VenueCategoryCount2\" + suffix)"
   ]
  },
  {
   "cell_type": "code",
   "execution_count": null,
   "metadata": {},
   "outputs": [],
   "source": [
    "fig = px.histogram(data,\n",
    "             x=\"sex\",\n",
    "             y=\"total_bill\",\n",
    "             color=\"smoker\",\n",
    "             barmode=\"stack\"  # ['stack', 'group', 'overlay', 'relative']\n",
    "            )\n",
    "\n",
    "fig.show()"
   ]
  },
  {
   "cell_type": "code",
   "execution_count": 63,
   "metadata": {},
   "outputs": [],
   "source": [
    "for i in range(6):\n",
    "    fig = px.density_mapbox(data[data[\"userId\"].isin(label_result[i])], lat=\"latitude\", lon=\"longitude\", radius=1,\n",
    "                        center=dict(lat=35.66, lon=139.73), zoom=10,\n",
    "                        mapbox_style=\"stamen-terrain\",)\n",
    "    fig.write_html(save_path + \"userPos\" + str(i)+ suffix)"
   ]
  },
  {
   "cell_type": "code",
   "execution_count": 10,
   "metadata": {},
   "outputs": [],
   "source": [
    "user_data = data[data[\"userId\"].isin(label_result[5])]\n",
    "# user_data.sort_values(by=\"hour\", inplace=True, ascending=True)\n",
    "fig = px.density_mapbox(user_data, lat=\"latitude\", lon=\"longitude\", radius=2,\n",
    "                        center=dict(lat=35.66, lon=139.73), zoom=10,\n",
    "                        mapbox_style=\"stamen-terrain\",\n",
    "                        animation_frame=\"hour\",\n",
    "                        category_orders={\"hour\":list(range(24))})\n",
    "fig.write_html(save_path + \"hour5\" + suffix)"
   ]
  },
  {
   "cell_type": "code",
   "execution_count": 50,
   "metadata": {},
   "outputs": [],
   "source": [
    "data[\"hourzone\"] =  data.apply(lambda x:x[\"hour\"] // 4, axis=1)"
   ]
  }
 ],
 "metadata": {
  "kernelspec": {
   "display_name": "base",
   "language": "python",
   "name": "python3"
  },
  "language_info": {
   "codemirror_mode": {
    "name": "ipython",
    "version": 3
   },
   "file_extension": ".py",
   "mimetype": "text/x-python",
   "name": "python",
   "nbconvert_exporter": "python",
   "pygments_lexer": "ipython3",
   "version": "3.8.5 (default, Sep  3 2020, 21:29:08) [MSC v.1916 64 bit (AMD64)]"
  },
  "orig_nbformat": 4,
  "vscode": {
   "interpreter": {
    "hash": "e42634819b8c191a5d07eaf23810ff32516dd8d3875f28ec3e488928fbd3c187"
   }
  }
 },
 "nbformat": 4,
 "nbformat_minor": 2
}
